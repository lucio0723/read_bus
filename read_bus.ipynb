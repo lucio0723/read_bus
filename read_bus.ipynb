{
  "nbformat": 4,
  "nbformat_minor": 0,
  "metadata": {
    "colab": {
      "provenance": [],
      "authorship_tag": "ABX9TyNlpMZJnMaNa1p4bwAda9vu",
      "include_colab_link": true
    },
    "kernelspec": {
      "name": "python3",
      "display_name": "Python 3"
    },
    "language_info": {
      "name": "python"
    }
  },
  "cells": [
    {
      "cell_type": "markdown",
      "metadata": {
        "id": "view-in-github",
        "colab_type": "text"
      },
      "source": [
        "<a href=\"https://colab.research.google.com/github/lucio0723/read_bus/blob/main/read_bus.ipynb\" target=\"_parent\"><img src=\"https://colab.research.google.com/assets/colab-badge.svg\" alt=\"Open In Colab\"/></a>"
      ]
    },
    {
      "cell_type": "code",
      "execution_count": 1,
      "metadata": {
        "id": "EWH2buL1GN_p",
        "colab": {
          "base_uri": "https://localhost:8080/"
        },
        "outputId": "b802bb95-0d5c-4a57-d363-80b9b1d0310d"
      },
      "outputs": [
        {
          "output_type": "stream",
          "name": "stdout",
          "text": [
            "<?xml version=\"1.0\" encoding=\"UTF-8\" standalone=\"yes\"?><response><comMsgHeader/><msgHeader><queryTime>2024-03-17 22:49:43.376</queryTime><resultCode>0</resultCode><resultMessage>정상적으로 처리되었습니다.</resultMessage></msgHeader><msgBody><busLocationList><endBus>0</endBus><lowPlate>0</lowPlate><plateNo>경기77바1312</plateNo><plateType>3</plateType><remainSeatCnt>38</remainSeatCnt><routeId>234001159</routeId><stationId>277103389</stationId><stationSeq>32</stationSeq></busLocationList><busLocationList><endBus>0</endBus><lowPlate>0</lowPlate><plateNo>경기77바1222</plateNo><plateType>3</plateType><remainSeatCnt>41</remainSeatCnt><routeId>234001159</routeId><stationId>277103400</stationId><stationSeq>14</stationSeq></busLocationList></msgBody></response>\n"
          ]
        }
      ],
      "source": [
        "\n",
        "import requests\n",
        "url='http://openapi.gbis.go.kr/ws/rest/buslocationservice?serviceKey=1234567890&routeId=234001159'\n",
        "r = requests.get(url)\n",
        "print(r.text)\n"
      ]
    },
    {
      "cell_type": "code",
      "source": [
        "from bs4 import BeautifulSoup\n",
        "\n",
        "soup = BeautifulSoup(r.text, features=\"xml\")\n",
        "\n",
        "\n",
        "soup.find_all('stationId')"
      ],
      "metadata": {
        "colab": {
          "base_uri": "https://localhost:8080/"
        },
        "id": "oEqI8qknqhny",
        "outputId": "603a5216-1cc9-4802-948b-991f0822cebb"
      },
      "execution_count": 2,
      "outputs": [
        {
          "output_type": "execute_result",
          "data": {
            "text/plain": [
              "[<stationId>277103389</stationId>, <stationId>277103400</stationId>]"
            ]
          },
          "metadata": {},
          "execution_count": 2
        }
      ]
    }
  ]
}